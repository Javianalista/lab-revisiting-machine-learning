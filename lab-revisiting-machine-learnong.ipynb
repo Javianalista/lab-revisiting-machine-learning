{
 "cells": [
  {
   "cell_type": "markdown",
   "id": "01125cf6-a6eb-4004-962a-46bfb8e1491f",
   "metadata": {},
   "source": [
    "## Importing libraries"
   ]
  },
  {
   "cell_type": "code",
   "execution_count": 1,
   "id": "e2aa3676-6d77-4b44-a9e8-c235e04f6816",
   "metadata": {},
   "outputs": [],
   "source": [
    "import pandas as pd\n",
    "import numpy as np\n",
    "import matplotlib.pyplot as plt\n",
    "import seaborn as sns \n",
    "pd.set_option('display.max_columns', None)"
   ]
  },
  {
   "cell_type": "markdown",
   "id": "29ac085a-d481-4728-8b54-2510f6a7a7fc",
   "metadata": {},
   "source": [
    "## Importing and cleaning data"
   ]
  },
  {
   "cell_type": "code",
   "execution_count": 3,
   "id": "3e1733d4-9366-46e4-8eba-b7226ed14677",
   "metadata": {},
   "outputs": [
    {
     "name": "stderr",
     "output_type": "stream",
     "text": [
      "C:\\Users\\Propietario\\anaconda3\\lib\\site-packages\\IPython\\core\\interactiveshell.py:3165: DtypeWarning: Columns (8) have mixed types.Specify dtype option on import or set low_memory=False.\n",
      "  has_raised = await self.run_ast_nodes(code_ast.body, cell_name,\n"
     ]
    }
   ],
   "source": [
    "data = pd.read_csv('./files-for-lab/learningSet.csv')"
   ]
  },
  {
   "cell_type": "code",
   "execution_count": 40,
   "id": "632f9f08-455a-4899-b641-635295cabcb7",
   "metadata": {},
   "outputs": [
    {
     "data": {
      "text/plain": [
       "(95412, 481)"
      ]
     },
     "execution_count": 40,
     "metadata": {},
     "output_type": "execute_result"
    }
   ],
   "source": [
    "data.shape"
   ]
  },
  {
   "cell_type": "code",
   "execution_count": 8,
   "id": "e2caed59-dc84-493e-9631-98c8d1bcc110",
   "metadata": {},
   "outputs": [],
   "source": [
    "drop_list = []"
   ]
  },
  {
   "cell_type": "code",
   "execution_count": 26,
   "id": "965c447c-f616-4cb5-b23e-cc7e352d02dc",
   "metadata": {},
   "outputs": [],
   "source": [
    "drop_list.append('OSOURCE')\n",
    "drop_list.append('ZIP')"
   ]
  },
  {
   "cell_type": "code",
   "execution_count": 4,
   "id": "7bdf3884-1cec-47df-b30d-7203e37fb9b2",
   "metadata": {},
   "outputs": [
    {
     "data": {
      "text/html": [
       "<div>\n",
       "<style scoped>\n",
       "    .dataframe tbody tr th:only-of-type {\n",
       "        vertical-align: middle;\n",
       "    }\n",
       "\n",
       "    .dataframe tbody tr th {\n",
       "        vertical-align: top;\n",
       "    }\n",
       "\n",
       "    .dataframe thead th {\n",
       "        text-align: right;\n",
       "    }\n",
       "</style>\n",
       "<table border=\"1\" class=\"dataframe\">\n",
       "  <thead>\n",
       "    <tr style=\"text-align: right;\">\n",
       "      <th></th>\n",
       "      <th>column_name</th>\n",
       "      <th>nulls_percentage</th>\n",
       "    </tr>\n",
       "  </thead>\n",
       "  <tbody>\n",
       "    <tr>\n",
       "      <th>0</th>\n",
       "      <td>ODATEDW</td>\n",
       "      <td>0.000000</td>\n",
       "    </tr>\n",
       "    <tr>\n",
       "      <th>1</th>\n",
       "      <td>OSOURCE</td>\n",
       "      <td>0.000000</td>\n",
       "    </tr>\n",
       "    <tr>\n",
       "      <th>2</th>\n",
       "      <td>TCODE</td>\n",
       "      <td>0.000000</td>\n",
       "    </tr>\n",
       "    <tr>\n",
       "      <th>3</th>\n",
       "      <td>STATE</td>\n",
       "      <td>0.000000</td>\n",
       "    </tr>\n",
       "    <tr>\n",
       "      <th>4</th>\n",
       "      <td>ZIP</td>\n",
       "      <td>0.000000</td>\n",
       "    </tr>\n",
       "    <tr>\n",
       "      <th>...</th>\n",
       "      <td>...</td>\n",
       "      <td>...</td>\n",
       "    </tr>\n",
       "    <tr>\n",
       "      <th>476</th>\n",
       "      <td>MDMAUD_R</td>\n",
       "      <td>0.000000</td>\n",
       "    </tr>\n",
       "    <tr>\n",
       "      <th>477</th>\n",
       "      <td>MDMAUD_F</td>\n",
       "      <td>0.000000</td>\n",
       "    </tr>\n",
       "    <tr>\n",
       "      <th>478</th>\n",
       "      <td>MDMAUD_A</td>\n",
       "      <td>0.000000</td>\n",
       "    </tr>\n",
       "    <tr>\n",
       "      <th>479</th>\n",
       "      <td>CLUSTER2</td>\n",
       "      <td>0.001383</td>\n",
       "    </tr>\n",
       "    <tr>\n",
       "      <th>480</th>\n",
       "      <td>GEOCODE2</td>\n",
       "      <td>0.001383</td>\n",
       "    </tr>\n",
       "  </tbody>\n",
       "</table>\n",
       "<p>481 rows × 2 columns</p>\n",
       "</div>"
      ],
      "text/plain": [
       "    column_name  nulls_percentage\n",
       "0       ODATEDW          0.000000\n",
       "1       OSOURCE          0.000000\n",
       "2         TCODE          0.000000\n",
       "3         STATE          0.000000\n",
       "4           ZIP          0.000000\n",
       "..          ...               ...\n",
       "476    MDMAUD_R          0.000000\n",
       "477    MDMAUD_F          0.000000\n",
       "478    MDMAUD_A          0.000000\n",
       "479    CLUSTER2          0.001383\n",
       "480    GEOCODE2          0.001383\n",
       "\n",
       "[481 rows x 2 columns]"
      ]
     },
     "execution_count": 4,
     "metadata": {},
     "output_type": "execute_result"
    }
   ],
   "source": [
    "nulls_percent_df = pd.DataFrame(data.isna().sum()/len(data)).reset_index()\n",
    "nulls_percent_df.columns = ['column_name', 'nulls_percentage']\n",
    "nulls_percent_df"
   ]
  },
  {
   "cell_type": "code",
   "execution_count": 14,
   "id": "3ce3ef8c-229d-4b70-b8d7-3a028fbfb3ac",
   "metadata": {},
   "outputs": [
    {
     "data": {
      "text/html": [
       "<div>\n",
       "<style scoped>\n",
       "    .dataframe tbody tr th:only-of-type {\n",
       "        vertical-align: middle;\n",
       "    }\n",
       "\n",
       "    .dataframe tbody tr th {\n",
       "        vertical-align: top;\n",
       "    }\n",
       "\n",
       "    .dataframe thead th {\n",
       "        text-align: right;\n",
       "    }\n",
       "</style>\n",
       "<table border=\"1\" class=\"dataframe\">\n",
       "  <thead>\n",
       "    <tr style=\"text-align: right;\">\n",
       "      <th></th>\n",
       "      <th>column_name</th>\n",
       "      <th>nulls_percentage</th>\n",
       "    </tr>\n",
       "  </thead>\n",
       "  <tbody>\n",
       "    <tr>\n",
       "      <th>0</th>\n",
       "      <td>AGE</td>\n",
       "      <td>0.248030</td>\n",
       "    </tr>\n",
       "    <tr>\n",
       "      <th>1</th>\n",
       "      <td>NUMCHLD</td>\n",
       "      <td>0.870184</td>\n",
       "    </tr>\n",
       "    <tr>\n",
       "      <th>2</th>\n",
       "      <td>INCOME</td>\n",
       "      <td>0.223096</td>\n",
       "    </tr>\n",
       "    <tr>\n",
       "      <th>3</th>\n",
       "      <td>WEALTH1</td>\n",
       "      <td>0.468830</td>\n",
       "    </tr>\n",
       "    <tr>\n",
       "      <th>4</th>\n",
       "      <td>MBCRAFT</td>\n",
       "      <td>0.553955</td>\n",
       "    </tr>\n",
       "    <tr>\n",
       "      <th>...</th>\n",
       "      <td>...</td>\n",
       "      <td>...</td>\n",
       "    </tr>\n",
       "    <tr>\n",
       "      <th>87</th>\n",
       "      <td>RAMNT_24</td>\n",
       "      <td>0.814090</td>\n",
       "    </tr>\n",
       "    <tr>\n",
       "      <th>88</th>\n",
       "      <td>NEXTDATE</td>\n",
       "      <td>0.104526</td>\n",
       "    </tr>\n",
       "    <tr>\n",
       "      <th>89</th>\n",
       "      <td>TIMELAG</td>\n",
       "      <td>0.104526</td>\n",
       "    </tr>\n",
       "    <tr>\n",
       "      <th>90</th>\n",
       "      <td>CLUSTER2</td>\n",
       "      <td>0.001383</td>\n",
       "    </tr>\n",
       "    <tr>\n",
       "      <th>91</th>\n",
       "      <td>GEOCODE2</td>\n",
       "      <td>0.001383</td>\n",
       "    </tr>\n",
       "  </tbody>\n",
       "</table>\n",
       "<p>92 rows × 2 columns</p>\n",
       "</div>"
      ],
      "text/plain": [
       "   column_name  nulls_percentage\n",
       "0          AGE          0.248030\n",
       "1      NUMCHLD          0.870184\n",
       "2       INCOME          0.223096\n",
       "3      WEALTH1          0.468830\n",
       "4      MBCRAFT          0.553955\n",
       "..         ...               ...\n",
       "87    RAMNT_24          0.814090\n",
       "88    NEXTDATE          0.104526\n",
       "89     TIMELAG          0.104526\n",
       "90    CLUSTER2          0.001383\n",
       "91    GEOCODE2          0.001383\n",
       "\n",
       "[92 rows x 2 columns]"
      ]
     },
     "execution_count": 14,
     "metadata": {},
     "output_type": "execute_result"
    }
   ],
   "source": [
    "nulls = nulls_percent_df[nulls_percent_df['nulls_percentage']!=0].reset_index(drop = True)\n",
    "nulls"
   ]
  },
  {
   "cell_type": "code",
   "execution_count": 27,
   "id": "754bd3bf-e5c3-4fff-845b-fbcce5c9ff7d",
   "metadata": {},
   "outputs": [],
   "source": [
    "saved_elements = [\"WEALTH1\", \"WEALTH2\",\"SOLIH\",\"VETERANS\"]"
   ]
  },
  {
   "cell_type": "code",
   "execution_count": 36,
   "id": "caf7a84a-d4ed-4978-b94e-0a127eb7e553",
   "metadata": {},
   "outputs": [],
   "source": [
    "for i in range(len(nulls['nulls_percentage'])):\n",
    "    if (nulls['column_name'][i] not in saved_elements) and (nulls['nulls_percentage'][i] > 0.85):\n",
    "        drop_list.append(nulls['column_name'][i])"
   ]
  },
  {
   "cell_type": "code",
   "execution_count": 41,
   "id": "7f34d0a4-a485-483b-bce1-9f907df97f0f",
   "metadata": {},
   "outputs": [
    {
     "data": {
      "text/plain": [
       "(95412, 454)"
      ]
     },
     "execution_count": 41,
     "metadata": {},
     "output_type": "execute_result"
    }
   ],
   "source": [
    "data = data.drop(columns = drop_list)\n",
    "data.shape"
   ]
  },
  {
   "cell_type": "code",
   "execution_count": 48,
   "id": "81892c49-538a-436f-81c9-49bfbe0eebac",
   "metadata": {},
   "outputs": [],
   "source": [
    "categorical = data.select_dtypes(object)"
   ]
  },
  {
   "cell_type": "code",
   "execution_count": 49,
   "id": "39c5d318-a977-4347-a56b-6af92f890af3",
   "metadata": {},
   "outputs": [
    {
     "name": "stdout",
     "output_type": "stream",
     "text": [
      "F    51277\n",
      "M    39094\n",
      "      2957\n",
      "U     1715\n",
      "J      365\n",
      "C        2\n",
      "A        2\n",
      "Name: GENDER, dtype: int64\n"
     ]
    }
   ],
   "source": [
    "print(categorical['GENDER'].value_counts())"
   ]
  },
  {
   "cell_type": "code",
   "execution_count": 50,
   "id": "3e7b7aba-9a1d-46f0-8a22-773cd58a9ec6",
   "metadata": {},
   "outputs": [
    {
     "name": "stdout",
     "output_type": "stream",
     "text": [
      "F    51277\n",
      "M    39094\n",
      "      2957\n",
      "U     1715\n",
      "J      365\n",
      "C        2\n",
      "A        2\n",
      "Name: GENDER, dtype: int64\n"
     ]
    },
    {
     "name": "stderr",
     "output_type": "stream",
     "text": [
      "<ipython-input-50-213f22e78ba2>:1: SettingWithCopyWarning: \n",
      "A value is trying to be set on a copy of a slice from a DataFrame.\n",
      "Try using .loc[row_indexer,col_indexer] = value instead\n",
      "\n",
      "See the caveats in the documentation: https://pandas.pydata.org/pandas-docs/stable/user_guide/indexing.html#returning-a-view-versus-a-copy\n",
      "  categorical['GENDER'] = categorical['GENDER'].fillna('F')\n"
     ]
    }
   ],
   "source": [
    "categorical['GENDER'] = categorical['GENDER'].fillna('F')\n",
    "print(categorical['GENDER'].value_counts())\n",
    "#it's not working"
   ]
  },
  {
   "cell_type": "code",
   "execution_count": 51,
   "id": "b240ce56-0a26-486c-978e-56fca9f8f17b",
   "metadata": {},
   "outputs": [
    {
     "data": {
      "text/plain": [
       "array(['F', 'M', ' ', 'C', 'U', 'J', 'A'], dtype=object)"
      ]
     },
     "execution_count": 51,
     "metadata": {},
     "output_type": "execute_result"
    }
   ],
   "source": [
    "categorical['GENDER'].unique()"
   ]
  },
  {
   "cell_type": "code",
   "execution_count": 53,
   "id": "a42bf90e-fb65-4d0a-b708-3f3ffd812e8b",
   "metadata": {},
   "outputs": [
    {
     "name": "stderr",
     "output_type": "stream",
     "text": [
      "C:\\Users\\Propietario\\anaconda3\\lib\\site-packages\\IPython\\core\\interactiveshell.py:3437: SettingWithCopyWarning: \n",
      "A value is trying to be set on a copy of a slice from a DataFrame\n",
      "\n",
      "See the caveats in the documentation: https://pandas.pydata.org/pandas-docs/stable/user_guide/indexing.html#returning-a-view-versus-a-copy\n",
      "  exec(code_obj, self.user_global_ns, self.user_ns)\n"
     ]
    }
   ],
   "source": [
    "for i in range(len(categorical['GENDER'])):\n",
    "    if categorical['GENDER'][i] == ' ':\n",
    "        categorical['GENDER'][i] = 'F'\n",
    "    else:\n",
    "        if (categorical['GENDER'][i] != 'M') and (categorical['GENDER'][i] != 'F'):\n",
    "            categorical['GENDER'][i] = 'other'"
   ]
  },
  {
   "cell_type": "code",
   "execution_count": 54,
   "id": "394d32fe-a125-46a5-8f96-281e1012d03f",
   "metadata": {},
   "outputs": [
    {
     "name": "stdout",
     "output_type": "stream",
     "text": [
      "F        54234\n",
      "M        39094\n",
      "other     2084\n",
      "Name: GENDER, dtype: int64\n"
     ]
    }
   ],
   "source": [
    "print(categorical['GENDER'].value_counts())"
   ]
  },
  {
   "cell_type": "code",
   "execution_count": null,
   "id": "5d932948-6169-4d30-9fd6-f4c4f4cd77d5",
   "metadata": {},
   "outputs": [],
   "source": []
  }
 ],
 "metadata": {
  "kernelspec": {
   "display_name": "Python 3",
   "language": "python",
   "name": "python3"
  },
  "language_info": {
   "codemirror_mode": {
    "name": "ipython",
    "version": 3
   },
   "file_extension": ".py",
   "mimetype": "text/x-python",
   "name": "python",
   "nbconvert_exporter": "python",
   "pygments_lexer": "ipython3",
   "version": "3.8.8"
  }
 },
 "nbformat": 4,
 "nbformat_minor": 5
}
